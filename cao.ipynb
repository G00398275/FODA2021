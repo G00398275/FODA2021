{
 "cells": [
  {
   "cell_type": "code",
   "execution_count": 1,
   "id": "e5a79e9e-0897-449b-bc8d-489d484c954d",
   "metadata": {},
   "outputs": [],
   "source": [
    "# CAO.IPYNB\n",
    "# An overview of the CAO points system\n",
    "# Author: Ross Downey - G00398275\n",
    "# Fundamentals of Data Analysis 2021"
   ]
  },
  {
   "cell_type": "code",
   "execution_count": 2,
   "id": "13c3217b-2937-4b2a-859c-5cf7512cdfa0",
   "metadata": {},
   "outputs": [],
   "source": [
    "import numpy as np\n",
    "import matplotlib.pyplot as plt"
   ]
  },
  {
   "cell_type": "code",
   "execution_count": null,
   "id": "c6584429-9bc2-47d8-a107-a00b8882b834",
   "metadata": {},
   "outputs": [],
   "source": [
    "# Selecting the plot style\n",
    "plt.style.use('fivethiryeight')\n",
    "# Modifying the plot size\n",
    "plc.rcParams['figure.figsize'] = [12, 6]"
   ]
  },
  {
   "cell_type": "code",
   "execution_count": null,
   "id": "1601ea0d-2248-4add-9ba2-5ae84899e2c8",
   "metadata": {},
   "outputs": [],
   "source": []
  },
  {
   "cell_type": "code",
   "execution_count": null,
   "id": "0a22cd54-c3a1-4fc9-b368-0919e84b5e7e",
   "metadata": {},
   "outputs": [],
   "source": []
  },
  {
   "cell_type": "code",
   "execution_count": null,
   "id": "6c78b6d6-2964-49be-9abc-01dec457f5fb",
   "metadata": {},
   "outputs": [],
   "source": []
  },
  {
   "cell_type": "code",
   "execution_count": null,
   "id": "edb05baa-6ed6-4904-8d87-0abb09f52a33",
   "metadata": {},
   "outputs": [],
   "source": []
  },
  {
   "cell_type": "markdown",
   "id": "aa29abfe-668d-4f24-882f-958da7b69d33",
   "metadata": {},
   "source": [
    "# References\n",
    "\n",
    "\n"
   ]
  },
  {
   "cell_type": "markdown",
   "id": "248dcb9a-361f-446b-8963-a5ea1312c5bf",
   "metadata": {},
   "source": [
    "***\n",
    "END\n",
    "***"
   ]
  }
 ],
 "metadata": {
  "kernelspec": {
   "display_name": "Python 3",
   "language": "python",
   "name": "python3"
  },
  "language_info": {
   "codemirror_mode": {
    "name": "ipython",
    "version": 3
   },
   "file_extension": ".py",
   "mimetype": "text/x-python",
   "name": "python",
   "nbconvert_exporter": "python",
   "pygments_lexer": "ipython3",
   "version": "3.8.8"
  }
 },
 "nbformat": 4,
 "nbformat_minor": 5
}
