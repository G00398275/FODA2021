{
 "cells": [
  {
   "cell_type": "markdown",
   "id": "050aa350-c10b-47d5-953f-6f8ee2b817f5",
   "metadata": {},
   "source": [
    "# CAO Points Analysis\n",
    "## Author: Ross Downey\n",
    "\n",
    "http://www2.cao.ie/points/l8.php\n",
    "***\n"
   ]
  },
  {
   "cell_type": "code",
   "execution_count": 1,
   "id": "6fd84a80-6a32-4fac-9d9d-7c4a178c3f50",
   "metadata": {},
   "outputs": [],
   "source": [
    "# HTTP Requests Python Module\n",
    "import requests as rq\n",
    "\n",
    "# Regular expressions module\n",
    "import re\n",
    "\n",
    "# Dates and time module\n",
    "import datetime as dt\n",
    "\n",
    "# Pandas\n",
    "import pandas as pd\n",
    "\n",
    "# Downloading\n",
    "import urllib.request as urlrq"
   ]
  },
  {
   "cell_type": "markdown",
   "id": "1cb6046a-d1a2-4d54-9f20-8b962ca69fe8",
   "metadata": {},
   "source": [
    "<br>\n",
    "\n",
    "## 2021 Points\n",
    "\n",
    "***"
   ]
  },
  {
   "cell_type": "code",
   "execution_count": 2,
   "id": "f4eb2841-ec5d-4213-aa4c-caa7874dd9eb",
   "metadata": {},
   "outputs": [
    {
     "data": {
      "text/plain": [
       "<Response [200]>"
      ]
     },
     "execution_count": 2,
     "metadata": {},
     "output_type": "execute_result"
    }
   ],
   "source": [
    "# Retrieving the 2021 CAO from this URL using the requests module\n",
    "resp = rq.get('http://www2.cao.ie/points/l8.php')\n",
    "\n",
    "# Veryifing Python has downloaded the data from the URL, [200] means it's ok\n",
    "resp"
   ]
  },
  {
   "cell_type": "markdown",
   "id": "80844957-001c-4a0d-8c37-af8d63776d0d",
   "metadata": {},
   "source": [
    "<br>  \n",
    "\n",
    "## Ensuring original dataset is saved\n",
    "***"
   ]
  },
  {
   "cell_type": "code",
   "execution_count": 3,
   "id": "03242c00-d76d-4bd8-b41f-385f987c6f44",
   "metadata": {},
   "outputs": [],
   "source": [
    "# Saving current date and time as a function\n",
    "now = dt.datetime.now()\n",
    "\n",
    "# Convert date and time to a string\n",
    "nowstr = now.strftime('%Y%m%d_%H%M%S')"
   ]
  },
  {
   "cell_type": "code",
   "execution_count": 4,
   "id": "469a1bad-bd38-41e0-9049-9d369a3a03f2",
   "metadata": {},
   "outputs": [],
   "source": [
    "# Filepath to be created in data folder to save original data\n",
    "filepath = 'data/cao2021_' + nowstr + '.html'"
   ]
  },
  {
   "cell_type": "markdown",
   "id": "5587fd53-1298-400a-8c18-7e5186f02e46",
   "metadata": {},
   "source": [
    "<br>\n",
    "\n",
    "## Error on Server\n",
    "***\n",
    "Issue with the character set defined on the CAO server.  \n",
    "The server says we should decode as per:  \n",
    "    Content-Type: text/html; charset=iso-8859-1  \n",
    "On decoding as per 'iso-8859-1' it was noted that one line is using \\x96,  \n",
    "which is not defined in iso-8859-1.  \n",
    "The similar decoding standard 'cp1252' will be used, which has a codepoint for \\x96."
   ]
  },
  {
   "cell_type": "code",
   "execution_count": 5,
   "id": "531f6fca-006d-455f-92fe-1784b786d4c5",
   "metadata": {},
   "outputs": [],
   "source": [
    "# Amending the original encoding\n",
    "original_encoding = resp.encoding\n",
    "\n",
    "# Changing to 'cp1252'\n",
    "resp.encoding = 'cp1252'"
   ]
  },
  {
   "cell_type": "code",
   "execution_count": 6,
   "id": "09e7bf30-a213-4517-b23e-6d2036e1548a",
   "metadata": {},
   "outputs": [],
   "source": [
    "# Saving the original file downloaded from server\n",
    "with open(filepath, 'w') as f:\n",
    "    f.write(resp.text)"
   ]
  },
  {
   "cell_type": "code",
   "execution_count": 7,
   "id": "ad489e56-8618-4a17-af79-c5f3c1bf9dde",
   "metadata": {},
   "outputs": [],
   "source": [
    "# Compiling the regular expression for the matching lines.\n",
    "re_course = re.compile(r'([A-Z]{2}[0-9]{3})(.*)')\n",
    "# This gives us only the lines in the original HTML code that have CAO points"
   ]
  },
  {
   "cell_type": "markdown",
   "id": "b805ad5a-8935-4e97-b593-5b48ff3755a3",
   "metadata": {},
   "source": [
    "<br>\n",
    "\n",
    "## Explanation of Regular Expression\n",
    "***\n",
    "re.compile  \n",
    "r = converting html flags to raw strings  \n",
    "[A-Z]{2} = Everything with 2 letters  \n",
    "[0-9]{3} = Followed by 3 numbers, this is each course code e.g. AL801\n",
    "(.*) is space then wildcard, this is the course title and points string.  \n",
    "Need to now load all of the lines with course details and remove unnecessary spaces and characters, leaving the code, title, and points for each course."
   ]
  },
  {
   "cell_type": "code",
   "execution_count": 9,
   "id": "21de6960-a0e9-4d49-98b6-49fc838e14fb",
   "metadata": {},
   "outputs": [
    {
     "name": "stdout",
     "output_type": "stream",
     "text": [
      "Total number of lines is 949. \n"
     ]
    }
   ],
   "source": [
    "# Creating filepath to save the new csv file\n",
    "filepath = 'data/cao2021_csv_' + nowstr + '.csv'\n",
    "\n",
    "\n",
    "# Adding a counter to total the number of courses processed\n",
    "no_lines = 0\n",
    "\n",
    "# Opening filepath to save new csv file\n",
    "with open(filepath, 'w') as f:\n",
    "    # Need a header row, defining column titles\n",
    "    f.write(','.join (['Course Code', 'Course', 'R1 Points', \n",
    "                      'R2 Points']) + '\\n')\n",
    "# Looping through the lines of the data \n",
    "    for line in resp.iter_lines():\n",
    "        \n",
    "        # Decode the line but using the 'wrong' encoding\n",
    "        dline = line.decode('cp1252')\n",
    "    \n",
    "        # Using regular expression to match lines with courses and points only\n",
    "        if re_course.fullmatch(dline):\n",
    "        \n",
    "            # Adding 1 for each line matched to give an overall total using the counter\n",
    "            no_lines = no_lines + 1\n",
    "            \n",
    "            # Define the course code, first five characters using index\n",
    "            course_code = dline[:5]\n",
    "            \n",
    "            # Define the course title, using index also, stripping blank spaces\n",
    "            course_title = dline [7:57].strip()\n",
    "            \n",
    "            # Define the round one points column, incorporating spaces\n",
    "            course_points = re.split(' +', dline[60:])\n",
    "            \n",
    "            # If the course has a round 2 points value, needs to be included\n",
    "            if len(course_points) != 2:\n",
    "                course_points = course_points[:2]\n",
    "        \n",
    "            # Defining the above strings as one array\n",
    "            linesplit = [course_code, course_title, \n",
    "                         course_points[0], course_points[1]]\n",
    "            \n",
    "            # Replacing special characters ('#', '*') from points columns\n",
    "            # Taken from https://stackoverflow.com/questions/5843518/remove-all-special-characters-punctuation-and-spaces-from-string\n",
    "            course_points[0] = re.sub(r'[#|*|]',r'',course_points[0])\n",
    "            course_points[1] = re.sub(r'[#|*|]',r'',course_points[1])\n",
    "        \n",
    "            # Concatenate the substrings after splitting but with commas in between\n",
    "            # Rejoined and using '\\n' to add a new line for each course\n",
    "            f.write(','.join(linesplit) + '\\n')\n",
    "        \n",
    "# Displaying the total number of lines processed\n",
    "print(f\"Total number of lines is {no_lines}. \")"
   ]
  },
  {
   "cell_type": "markdown",
   "id": "907efeb6-3790-43c1-b1eb-e4e57ccb4f79",
   "metadata": {},
   "source": [
    "<br>\n",
    "\n",
    "### Cleaning up csv file\n",
    "***\n",
    "1. Removed any special characters ( '#', '*' etc.) from the data to peform analysis on the data. This was done using \"Find and Replace\" in Notepad ++  \n",
    "2. Saved csv file as \"Ver2\" to read into pandas\n"
   ]
  },
  {
   "cell_type": "code",
   "execution_count": 28,
   "id": "fb3dd743-6316-4be7-a542-ef3947a20cd2",
   "metadata": {},
   "outputs": [],
   "source": [
    "# Ensure Version 2 is read into pandas, removing special characters\n",
    "df2021 = pd.read_csv('data/cao2021_csv_20211108_121221_ver2.csv',\n",
    "                     encoding='cp1252', sep=',')"
   ]
  },
  {
   "cell_type": "code",
   "execution_count": 31,
   "id": "ba9f515b-6474-4175-a467-ed74194da511",
   "metadata": {},
   "outputs": [
    {
     "data": {
      "text/html": [
       "<div>\n",
       "<style scoped>\n",
       "    .dataframe tbody tr th:only-of-type {\n",
       "        vertical-align: middle;\n",
       "    }\n",
       "\n",
       "    .dataframe tbody tr th {\n",
       "        vertical-align: top;\n",
       "    }\n",
       "\n",
       "    .dataframe thead th {\n",
       "        text-align: right;\n",
       "    }\n",
       "</style>\n",
       "<table border=\"1\" class=\"dataframe\">\n",
       "  <thead>\n",
       "    <tr style=\"text-align: right;\">\n",
       "      <th></th>\n",
       "      <th>Course Code</th>\n",
       "      <th>Course</th>\n",
       "      <th>R1 Points</th>\n",
       "      <th>R2 Points</th>\n",
       "    </tr>\n",
       "  </thead>\n",
       "  <tbody>\n",
       "    <tr>\n",
       "      <th>0</th>\n",
       "      <td>AL801</td>\n",
       "      <td>Software Design for Virtual Reality and Gaming</td>\n",
       "      <td>300</td>\n",
       "      <td>NaN</td>\n",
       "    </tr>\n",
       "    <tr>\n",
       "      <th>1</th>\n",
       "      <td>AL802</td>\n",
       "      <td>Software Design in Artificial Intelligence for...</td>\n",
       "      <td>313</td>\n",
       "      <td>NaN</td>\n",
       "    </tr>\n",
       "    <tr>\n",
       "      <th>2</th>\n",
       "      <td>AL803</td>\n",
       "      <td>Software Design for Mobile Apps and Connected ...</td>\n",
       "      <td>350</td>\n",
       "      <td>NaN</td>\n",
       "    </tr>\n",
       "    <tr>\n",
       "      <th>3</th>\n",
       "      <td>AL805</td>\n",
       "      <td>Computer Engineering for Network Infrastructure</td>\n",
       "      <td>321</td>\n",
       "      <td>NaN</td>\n",
       "    </tr>\n",
       "    <tr>\n",
       "      <th>4</th>\n",
       "      <td>AL810</td>\n",
       "      <td>Quantity Surveying</td>\n",
       "      <td>328</td>\n",
       "      <td>NaN</td>\n",
       "    </tr>\n",
       "    <tr>\n",
       "      <th>...</th>\n",
       "      <td>...</td>\n",
       "      <td>...</td>\n",
       "      <td>...</td>\n",
       "      <td>...</td>\n",
       "    </tr>\n",
       "    <tr>\n",
       "      <th>944</th>\n",
       "      <td>WD211</td>\n",
       "      <td>Creative Computing</td>\n",
       "      <td>270</td>\n",
       "      <td>NaN</td>\n",
       "    </tr>\n",
       "    <tr>\n",
       "      <th>945</th>\n",
       "      <td>WD212</td>\n",
       "      <td>Recreation and Sport Management</td>\n",
       "      <td>262</td>\n",
       "      <td>NaN</td>\n",
       "    </tr>\n",
       "    <tr>\n",
       "      <th>946</th>\n",
       "      <td>WD230</td>\n",
       "      <td>Mechanical and Manufacturing Engineering</td>\n",
       "      <td>230</td>\n",
       "      <td>230</td>\n",
       "    </tr>\n",
       "    <tr>\n",
       "      <th>947</th>\n",
       "      <td>WD231</td>\n",
       "      <td>Early Childhood Care and Education</td>\n",
       "      <td>266</td>\n",
       "      <td>NaN</td>\n",
       "    </tr>\n",
       "    <tr>\n",
       "      <th>948</th>\n",
       "      <td>WD232</td>\n",
       "      <td>Business Information Systems</td>\n",
       "      <td>261</td>\n",
       "      <td>261</td>\n",
       "    </tr>\n",
       "  </tbody>\n",
       "</table>\n",
       "<p>949 rows × 4 columns</p>\n",
       "</div>"
      ],
      "text/plain": [
       "    Course Code                                             Course R1 Points  \\\n",
       "0         AL801     Software Design for Virtual Reality and Gaming       300   \n",
       "1         AL802  Software Design in Artificial Intelligence for...       313   \n",
       "2         AL803  Software Design for Mobile Apps and Connected ...       350   \n",
       "3         AL805    Computer Engineering for Network Infrastructure       321   \n",
       "4         AL810                                 Quantity Surveying       328   \n",
       "..          ...                                                ...       ...   \n",
       "944       WD211                                 Creative Computing       270   \n",
       "945       WD212                    Recreation and Sport Management       262   \n",
       "946       WD230           Mechanical and Manufacturing Engineering       230   \n",
       "947       WD231                 Early Childhood Care and Education       266   \n",
       "948       WD232                       Business Information Systems       261   \n",
       "\n",
       "    R2 Points  \n",
       "0         NaN  \n",
       "1         NaN  \n",
       "2         NaN  \n",
       "3         NaN  \n",
       "4         NaN  \n",
       "..        ...  \n",
       "944       NaN  \n",
       "945       NaN  \n",
       "946       230  \n",
       "947       NaN  \n",
       "948       261  \n",
       "\n",
       "[949 rows x 4 columns]"
      ]
     },
     "execution_count": 31,
     "metadata": {},
     "output_type": "execute_result"
    }
   ],
   "source": [
    "df2021"
   ]
  },
  {
   "cell_type": "code",
   "execution_count": 32,
   "id": "f2c9e778-6218-4214-a3f0-c4041fe2ee5e",
   "metadata": {},
   "outputs": [
    {
     "data": {
      "text/plain": [
       "Course Code                                                CM003\n",
       "Course         Oideachas – Bunmhúinteoireacht Trí Mheán na Ga...\n",
       "R1 Points                                                    513\n",
       "R2 Points                                                    NaN\n",
       "Name: 181, dtype: object"
      ]
     },
     "execution_count": 32,
     "metadata": {},
     "output_type": "execute_result"
    }
   ],
   "source": [
    "# Spot Checking Index 181, confirming encoding and points\n",
    "df2021.iloc[181]"
   ]
  },
  {
   "cell_type": "markdown",
   "id": "e9eeba7f-a87b-49ac-94d3-0f248051dd84",
   "metadata": {},
   "source": [
    "<br>\n",
    "\n",
    "## 2020 Points\n",
    "***\n",
    "\n",
    "https://www.cao.ie/index.php?page=points&p=2020&bb=points"
   ]
  },
  {
   "cell_type": "markdown",
   "id": "7f949aba-3b3d-4ebe-9c5c-6b1fa7231d7a",
   "metadata": {},
   "source": [
    "<br>\n",
    "\n",
    "### Saving Original File from CAO website\n",
    "\n",
    "***"
   ]
  },
  {
   "cell_type": "code",
   "execution_count": 13,
   "id": "d1987b9b-eb41-4b80-93aa-26dedaffb8cc",
   "metadata": {},
   "outputs": [],
   "source": [
    "# Creating filepath for original 2020 data from CAO site\n",
    "# File extension set as xlsx as original is in excel format\n",
    "filepath2020 = 'data/cao2020_' + nowstr + '.xlsx'"
   ]
  },
  {
   "cell_type": "code",
   "execution_count": 14,
   "id": "4adef442-b48f-4263-960e-91cf38b552fb",
   "metadata": {},
   "outputs": [
    {
     "data": {
      "text/plain": [
       "('data/cao2020_20211108_121221.xlsx',\n",
       " <http.client.HTTPMessage at 0x19216614df0>)"
      ]
     },
     "execution_count": 14,
     "metadata": {},
     "output_type": "execute_result"
    }
   ],
   "source": [
    "urlrq.urlretrieve('http://www2.cao.ie/points/CAOPointsCharts2020.xlsx',\n",
    "                  filepath2020)"
   ]
  },
  {
   "cell_type": "markdown",
   "id": "21df7528-6acf-4edb-88e4-b96d9a5fc6a8",
   "metadata": {},
   "source": [
    "<br>\n",
    "\n",
    "### Loading 2020 Spreadsheet into Notebook using Pandas\n",
    "\n",
    "***"
   ]
  },
  {
   "cell_type": "code",
   "execution_count": 15,
   "id": "03c6704c-8eaa-4811-ad72-5a7dd05b25cb",
   "metadata": {},
   "outputs": [],
   "source": [
    "# Downloading and Parsing the spreadsheet\n",
    "# Skipping initial 10 rows as no relevant data contained within\n",
    "df2020 = pd.read_excel('http://www2.cao.ie/points/CAOPointsCharts2020.xlsx',\n",
    "                       skiprows=10,  usecols = [1,2,3,7,9])\n",
    "df2020.rename(columns={'COURSE TITLE': 'Course', 'COURSE CODE2': 'Course Code',\n",
    "                      'EOS Mid-point' : 'Mid', 'R1 POINTS' : 'R1 Points'},\n",
    "              inplace=True)\n",
    "# Re-labelling columns to align with other years' data\n",
    "# https://stackoverflow.com/questions/11346283/renaming-column-names-in-pandas\n",
    "df2020=df2020[['Course Code', 'Course', 'R1 Points', 'EOS', 'Mid']]\n",
    "# Re-arranging columns to align with other years' data\n",
    "# https://erikrood.com/Python_References/change_order_dataframe_columns_final.html"
   ]
  },
  {
   "cell_type": "code",
   "execution_count": 16,
   "id": "dad981f0-ff91-42b9-bbd2-ddaee2793bc9",
   "metadata": {},
   "outputs": [
    {
     "data": {
      "text/html": [
       "<div>\n",
       "<style scoped>\n",
       "    .dataframe tbody tr th:only-of-type {\n",
       "        vertical-align: middle;\n",
       "    }\n",
       "\n",
       "    .dataframe tbody tr th {\n",
       "        vertical-align: top;\n",
       "    }\n",
       "\n",
       "    .dataframe thead th {\n",
       "        text-align: right;\n",
       "    }\n",
       "</style>\n",
       "<table border=\"1\" class=\"dataframe\">\n",
       "  <thead>\n",
       "    <tr style=\"text-align: right;\">\n",
       "      <th></th>\n",
       "      <th>Course Code</th>\n",
       "      <th>Course</th>\n",
       "      <th>R1 Points</th>\n",
       "      <th>EOS</th>\n",
       "      <th>Mid</th>\n",
       "    </tr>\n",
       "  </thead>\n",
       "  <tbody>\n",
       "    <tr>\n",
       "      <th>0</th>\n",
       "      <td>AC120</td>\n",
       "      <td>International Business</td>\n",
       "      <td>209</td>\n",
       "      <td>209</td>\n",
       "      <td>280</td>\n",
       "    </tr>\n",
       "    <tr>\n",
       "      <th>1</th>\n",
       "      <td>AC137</td>\n",
       "      <td>Liberal Arts</td>\n",
       "      <td>252</td>\n",
       "      <td>252</td>\n",
       "      <td>270</td>\n",
       "    </tr>\n",
       "    <tr>\n",
       "      <th>2</th>\n",
       "      <td>AD101</td>\n",
       "      <td>First Year Art &amp; Design (Common Entry,portfolio)</td>\n",
       "      <td>#+matric</td>\n",
       "      <td>#+matric</td>\n",
       "      <td>#+matric</td>\n",
       "    </tr>\n",
       "    <tr>\n",
       "      <th>3</th>\n",
       "      <td>AD102</td>\n",
       "      <td>Graphic Design and Moving Image Design (portfo...</td>\n",
       "      <td>#+matric</td>\n",
       "      <td>#+matric</td>\n",
       "      <td>#+matric</td>\n",
       "    </tr>\n",
       "    <tr>\n",
       "      <th>4</th>\n",
       "      <td>AD103</td>\n",
       "      <td>Textile &amp; Surface Design and Jewellery &amp; Objec...</td>\n",
       "      <td>#+matric</td>\n",
       "      <td>#+matric</td>\n",
       "      <td>#+matric</td>\n",
       "    </tr>\n",
       "  </tbody>\n",
       "</table>\n",
       "</div>"
      ],
      "text/plain": [
       "  Course Code                                             Course R1 Points  \\\n",
       "0       AC120                             International Business       209   \n",
       "1       AC137                                       Liberal Arts       252   \n",
       "2       AD101   First Year Art & Design (Common Entry,portfolio)  #+matric   \n",
       "3       AD102  Graphic Design and Moving Image Design (portfo...  #+matric   \n",
       "4       AD103  Textile & Surface Design and Jewellery & Objec...  #+matric   \n",
       "\n",
       "        EOS       Mid  \n",
       "0       209       280  \n",
       "1       252       270  \n",
       "2  #+matric  #+matric  \n",
       "3  #+matric  #+matric  \n",
       "4  #+matric  #+matric  "
      ]
     },
     "execution_count": 16,
     "metadata": {},
     "output_type": "execute_result"
    }
   ],
   "source": [
    "# Checking first five rows for formatting\n",
    "df2020.head()"
   ]
  },
  {
   "cell_type": "code",
   "execution_count": 17,
   "id": "c72be423-31c2-47db-bc9d-622b8d991ec8",
   "metadata": {},
   "outputs": [
    {
     "data": {
      "text/html": [
       "<div>\n",
       "<style scoped>\n",
       "    .dataframe tbody tr th:only-of-type {\n",
       "        vertical-align: middle;\n",
       "    }\n",
       "\n",
       "    .dataframe tbody tr th {\n",
       "        vertical-align: top;\n",
       "    }\n",
       "\n",
       "    .dataframe thead th {\n",
       "        text-align: right;\n",
       "    }\n",
       "</style>\n",
       "<table border=\"1\" class=\"dataframe\">\n",
       "  <thead>\n",
       "    <tr style=\"text-align: right;\">\n",
       "      <th></th>\n",
       "      <th>Course Code</th>\n",
       "      <th>Course</th>\n",
       "      <th>R1 Points</th>\n",
       "      <th>EOS</th>\n",
       "      <th>Mid</th>\n",
       "    </tr>\n",
       "  </thead>\n",
       "  <tbody>\n",
       "    <tr>\n",
       "      <th>1459</th>\n",
       "      <td>WD208</td>\n",
       "      <td>Manufacturing Engineering</td>\n",
       "      <td>188</td>\n",
       "      <td>188</td>\n",
       "      <td>339</td>\n",
       "    </tr>\n",
       "    <tr>\n",
       "      <th>1460</th>\n",
       "      <td>WD210</td>\n",
       "      <td>Software Systems Development</td>\n",
       "      <td>279</td>\n",
       "      <td>279</td>\n",
       "      <td>337</td>\n",
       "    </tr>\n",
       "    <tr>\n",
       "      <th>1461</th>\n",
       "      <td>WD211</td>\n",
       "      <td>Creative Computing</td>\n",
       "      <td>271</td>\n",
       "      <td>271</td>\n",
       "      <td>318</td>\n",
       "    </tr>\n",
       "    <tr>\n",
       "      <th>1462</th>\n",
       "      <td>WD212</td>\n",
       "      <td>Recreation and Sport Management</td>\n",
       "      <td>270</td>\n",
       "      <td>270</td>\n",
       "      <td>349</td>\n",
       "    </tr>\n",
       "    <tr>\n",
       "      <th>1463</th>\n",
       "      <td>WD230</td>\n",
       "      <td>Mechanical and Manufacturing Engineering</td>\n",
       "      <td>253</td>\n",
       "      <td>253</td>\n",
       "      <td>369</td>\n",
       "    </tr>\n",
       "  </tbody>\n",
       "</table>\n",
       "</div>"
      ],
      "text/plain": [
       "     Course Code                                    Course R1 Points  EOS  Mid\n",
       "1459       WD208                 Manufacturing Engineering       188  188  339\n",
       "1460       WD210              Software Systems Development       279  279  337\n",
       "1461       WD211                        Creative Computing       271  271  318\n",
       "1462       WD212           Recreation and Sport Management       270  270  349\n",
       "1463       WD230  Mechanical and Manufacturing Engineering       253  253  369"
      ]
     },
     "execution_count": 17,
     "metadata": {},
     "output_type": "execute_result"
    }
   ],
   "source": [
    "df2020.tail()"
   ]
  },
  {
   "cell_type": "code",
   "execution_count": null,
   "id": "c37f5cc6-77b9-4baa-a38a-1f88a6cda9ac",
   "metadata": {},
   "outputs": [],
   "source": []
  },
  {
   "cell_type": "code",
   "execution_count": null,
   "id": "43181d15-7a80-4ed0-b8d9-1f43b80cf2b7",
   "metadata": {},
   "outputs": [],
   "source": []
  },
  {
   "cell_type": "code",
   "execution_count": 18,
   "id": "6f814abe-a9ee-4ac6-b9d8-ad4ef44d556c",
   "metadata": {},
   "outputs": [
    {
     "data": {
      "text/plain": [
       "Course Code                      DB576\n",
       "Course         Film and Creative Media\n",
       "R1 Points                          AQA\n",
       "EOS                                AQA\n",
       "Mid                                338\n",
       "Name: 333, dtype: object"
      ]
     },
     "execution_count": 18,
     "metadata": {},
     "output_type": "execute_result"
    }
   ],
   "source": [
    "# Spot checking random row\n",
    "# Index 333 is the same as row 345 in original excel file\n",
    "# Removed 10 rows, 1 row for header and 1 row for pandas index starting at 0\n",
    "# Spot check aligns with original excel file\n",
    "df2020.iloc[333]"
   ]
  },
  {
   "cell_type": "code",
   "execution_count": 19,
   "id": "3dd48336-8b30-4ed0-8ce8-77b4ef627314",
   "metadata": {},
   "outputs": [
    {
     "data": {
      "text/plain": [
       "Course Code                                       WD230\n",
       "Course         Mechanical and Manufacturing Engineering\n",
       "R1 Points                                           253\n",
       "EOS                                                 253\n",
       "Mid                                                 369\n",
       "Name: 1463, dtype: object"
      ]
     },
     "execution_count": 19,
     "metadata": {},
     "output_type": "execute_result"
    }
   ],
   "source": [
    "# Spot Check last row\n",
    "# Aligns with original excel file\n",
    "df2020.iloc[-1]"
   ]
  },
  {
   "cell_type": "code",
   "execution_count": 20,
   "id": "a1f04c5f-5a74-48f8-b64d-f4748b10c4c6",
   "metadata": {},
   "outputs": [],
   "source": [
    "# Creating file path for 2020 data in csv format (Note file extension)\n",
    "filepath2020 = 'data/cao2020_' + nowstr + '.csv'"
   ]
  },
  {
   "cell_type": "code",
   "execution_count": 21,
   "id": "8fc3b5aa-1637-4747-aec9-c43543d3a5ed",
   "metadata": {},
   "outputs": [],
   "source": [
    "# Saving dataframe\n",
    "df2020.to_csv(filepath2020)"
   ]
  },
  {
   "cell_type": "code",
   "execution_count": null,
   "id": "3cda7b1f-122f-4769-b580-914c3fef27f9",
   "metadata": {},
   "outputs": [],
   "source": []
  },
  {
   "cell_type": "code",
   "execution_count": null,
   "id": "072af512-5dfd-499c-9def-071a1ef07886",
   "metadata": {},
   "outputs": [],
   "source": []
  },
  {
   "cell_type": "code",
   "execution_count": null,
   "id": "14590d1b-8eb1-4287-b909-6dce9628ec0e",
   "metadata": {},
   "outputs": [],
   "source": []
  },
  {
   "cell_type": "code",
   "execution_count": null,
   "id": "2389091a-5ea5-4fdb-a3a4-5ae786265d1d",
   "metadata": {},
   "outputs": [],
   "source": []
  },
  {
   "cell_type": "code",
   "execution_count": null,
   "id": "61fbd00d-8cef-4d89-b7d7-dce2458b01b4",
   "metadata": {},
   "outputs": [],
   "source": []
  },
  {
   "cell_type": "markdown",
   "id": "bd37e653-b3fa-4771-8242-94ff447a44da",
   "metadata": {},
   "source": [
    "<br>\n",
    "\n",
    "## 2019 Points\n",
    "***\n",
    "\n",
    "https://www.cao.ie/index.php?page=points&p=2019&bb=points"
   ]
  },
  {
   "cell_type": "markdown",
   "id": "8ab2c033-3d8f-4ff1-abf0-5ce534114720",
   "metadata": {},
   "source": [
    "Steps taken to convert original pdf file to pandas dataframe\n",
    "<br>\n",
    "1. Original PDF file downloaded from link above\n",
    "2. PDF file converted to Microsoft Word file\n",
    "3. Microsoft Word file saved in docx format\n",
    "4. Second copy of Word file saved as \"_edited\"\n",
    "5. Headers, Footers and initial introduction deleted\n",
    "6. Selected all and pasted into Notepad++\n",
    "7. Removed all HEI names as had their own rows\n",
    "8. Removed all special characters (#* etc.) using \"Find and Replace\"\n",
    "9. Changed backticks (`) to apostrophes (') using \"Find and Replace\"\n",
    "10. Changed column header from \"Course and Institution\" to \"Course\"\n",
    "11. Extra \"NaN\" columns noted, removed double tab from course code AL870 (l.28)\n",
    "12. Extra tabs at end of rows removed as not required.\n"
   ]
  },
  {
   "cell_type": "code",
   "execution_count": 22,
   "id": "6022f210-9690-4d22-9ffd-1c6ef1590943",
   "metadata": {},
   "outputs": [],
   "source": [
    "df2019 = pd.read_csv('data/cao2019_20211102_194800_edited.csv', sep='\\t',\n",
    "                    usecols = [0,1,2,3])\n",
    "# Ref https://www.listendata.com/2019/06/pandas-read-csv.html"
   ]
  },
  {
   "cell_type": "code",
   "execution_count": 23,
   "id": "91d335bd-5c15-4860-9456-2c6293b574a7",
   "metadata": {},
   "outputs": [
    {
     "data": {
      "text/html": [
       "<div>\n",
       "<style scoped>\n",
       "    .dataframe tbody tr th:only-of-type {\n",
       "        vertical-align: middle;\n",
       "    }\n",
       "\n",
       "    .dataframe tbody tr th {\n",
       "        vertical-align: top;\n",
       "    }\n",
       "\n",
       "    .dataframe thead th {\n",
       "        text-align: right;\n",
       "    }\n",
       "</style>\n",
       "<table border=\"1\" class=\"dataframe\">\n",
       "  <thead>\n",
       "    <tr style=\"text-align: right;\">\n",
       "      <th></th>\n",
       "      <th>Course Code</th>\n",
       "      <th>Course</th>\n",
       "      <th>EOS</th>\n",
       "      <th>Mid</th>\n",
       "    </tr>\n",
       "  </thead>\n",
       "  <tbody>\n",
       "    <tr>\n",
       "      <th>0</th>\n",
       "      <td>AL801</td>\n",
       "      <td>Software Design with Virtual Reality and Gaming</td>\n",
       "      <td>304</td>\n",
       "      <td>328.0</td>\n",
       "    </tr>\n",
       "    <tr>\n",
       "      <th>1</th>\n",
       "      <td>AL802</td>\n",
       "      <td>Software Design with Cloud Computing</td>\n",
       "      <td>301</td>\n",
       "      <td>306.0</td>\n",
       "    </tr>\n",
       "    <tr>\n",
       "      <th>2</th>\n",
       "      <td>AL803</td>\n",
       "      <td>Software Design with Mobile Apps and Connected...</td>\n",
       "      <td>309</td>\n",
       "      <td>337.0</td>\n",
       "    </tr>\n",
       "    <tr>\n",
       "      <th>3</th>\n",
       "      <td>AL805</td>\n",
       "      <td>Network Management and Cloud Infrastructure</td>\n",
       "      <td>329</td>\n",
       "      <td>442.0</td>\n",
       "    </tr>\n",
       "    <tr>\n",
       "      <th>4</th>\n",
       "      <td>AL810</td>\n",
       "      <td>Quantity Surveying</td>\n",
       "      <td>307</td>\n",
       "      <td>349.0</td>\n",
       "    </tr>\n",
       "    <tr>\n",
       "      <th>...</th>\n",
       "      <td>...</td>\n",
       "      <td>...</td>\n",
       "      <td>...</td>\n",
       "      <td>...</td>\n",
       "    </tr>\n",
       "    <tr>\n",
       "      <th>925</th>\n",
       "      <td>WD200</td>\n",
       "      <td>Arts (options)</td>\n",
       "      <td>221</td>\n",
       "      <td>296.0</td>\n",
       "    </tr>\n",
       "    <tr>\n",
       "      <th>926</th>\n",
       "      <td>WD210</td>\n",
       "      <td>Software Systems Development</td>\n",
       "      <td>271</td>\n",
       "      <td>329.0</td>\n",
       "    </tr>\n",
       "    <tr>\n",
       "      <th>927</th>\n",
       "      <td>WD211</td>\n",
       "      <td>Creative Computing</td>\n",
       "      <td>275</td>\n",
       "      <td>322.0</td>\n",
       "    </tr>\n",
       "    <tr>\n",
       "      <th>928</th>\n",
       "      <td>WD212</td>\n",
       "      <td>Recreation and Sport Management</td>\n",
       "      <td>274</td>\n",
       "      <td>311.0</td>\n",
       "    </tr>\n",
       "    <tr>\n",
       "      <th>929</th>\n",
       "      <td>WD230</td>\n",
       "      <td>Mechanical and Manufacturing Engineering</td>\n",
       "      <td>273</td>\n",
       "      <td>348.0</td>\n",
       "    </tr>\n",
       "  </tbody>\n",
       "</table>\n",
       "<p>930 rows × 4 columns</p>\n",
       "</div>"
      ],
      "text/plain": [
       "    Course Code                                             Course  EOS    Mid\n",
       "0         AL801    Software Design with Virtual Reality and Gaming  304  328.0\n",
       "1         AL802               Software Design with Cloud Computing  301  306.0\n",
       "2         AL803  Software Design with Mobile Apps and Connected...  309  337.0\n",
       "3         AL805        Network Management and Cloud Infrastructure  329  442.0\n",
       "4         AL810                                 Quantity Surveying  307  349.0\n",
       "..          ...                                                ...  ...    ...\n",
       "925       WD200                                     Arts (options)  221  296.0\n",
       "926       WD210                       Software Systems Development  271  329.0\n",
       "927       WD211                                 Creative Computing  275  322.0\n",
       "928       WD212                    Recreation and Sport Management  274  311.0\n",
       "929       WD230           Mechanical and Manufacturing Engineering  273  348.0\n",
       "\n",
       "[930 rows x 4 columns]"
      ]
     },
     "execution_count": 23,
     "metadata": {},
     "output_type": "execute_result"
    }
   ],
   "source": [
    "df2019"
   ]
  },
  {
   "cell_type": "code",
   "execution_count": null,
   "id": "7d188714-3951-4083-8f91-41f676dbc4ff",
   "metadata": {},
   "outputs": [],
   "source": []
  },
  {
   "cell_type": "code",
   "execution_count": null,
   "id": "d476162d-68c2-45cd-a268-0afcb882b5a2",
   "metadata": {},
   "outputs": [],
   "source": []
  },
  {
   "cell_type": "code",
   "execution_count": null,
   "id": "a77d0ae9-b813-44da-8274-8b3e55bfbe54",
   "metadata": {},
   "outputs": [],
   "source": []
  },
  {
   "cell_type": "markdown",
   "id": "fe437868-2e3a-4daf-b5d5-418c273a2133",
   "metadata": {},
   "source": [
    "***\n",
    "## End"
   ]
  },
  {
   "cell_type": "code",
   "execution_count": null,
   "id": "4c4aab4b-d5a3-4c6f-901e-b6752011c1fa",
   "metadata": {},
   "outputs": [],
   "source": []
  }
 ],
 "metadata": {
  "kernelspec": {
   "display_name": "Python 3",
   "language": "python",
   "name": "python3"
  },
  "language_info": {
   "codemirror_mode": {
    "name": "ipython",
    "version": 3
   },
   "file_extension": ".py",
   "mimetype": "text/x-python",
   "name": "python",
   "nbconvert_exporter": "python",
   "pygments_lexer": "ipython3",
   "version": "3.8.8"
  }
 },
 "nbformat": 4,
 "nbformat_minor": 5
}
