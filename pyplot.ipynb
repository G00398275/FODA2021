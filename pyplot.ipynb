{
 "cells": [
  {
   "cell_type": "markdown",
   "id": "511cef01-109a-4fab-8f9c-251912b98fac",
   "metadata": {},
   "source": [
    "# Fundamentals of Data Analysis 2021 - Assignment\n",
    "## The matplotlib.pyplot Python Package\n",
    "## Author: Ross Downey - G00398275\n",
    "## pyplot.ipynb\n",
    "\n",
    "***\n",
    "[Official Documentation](https://matplotlib.org/stable/api/_as_gen/matplotlib.pyplot.html)"
   ]
  },
  {
   "cell_type": "code",
   "execution_count": 20,
   "id": "f2904785-e9fa-4b8d-81b7-f86f92726b69",
   "metadata": {},
   "outputs": [
    {
     "data": {
      "image/png": "[encoded data removed]",
      "text/plain": [
       "<Figure size 864x576 with 1 Axes>"
      ]
     },
     "metadata": {},
     "output_type": "display_data"
    }
   ],
   "source": [
    "'''[1]'''\n",
    "import pandas as pd \n",
    "from pandas import DataFrame\n",
    "import seaborn as sns\n",
    "# importing modules for example plot\n",
    "import numpy as np\n",
    "# Efficient numerical arrays \n",
    "import matplotlib.pyplot as plt\n",
    "# plotting\n",
    "\n",
    "iris = sns.load_dataset(\"iris\")\n",
    "sns.set(rc={'figure.figsize':(12,8)})\n",
    "ax = sns.boxplot(\n",
    "    data=iris, orient=\"h\", palette=\"Set3\").set(\n",
    "    xlabel = \"cm\",title = \"Iris DataSet Boxplot\")\n",
    "plt.show()\n",
    " "
   ]
  },
  {
   "cell_type": "markdown",
   "id": "16e5cc49-ff60-476d-9387-7f0b8b6a9a8f",
   "metadata": {},
   "source": [
    "## Introduction\n",
    "The matplotlib.pyplot Python package is a plotting library that data scientists use to present visual, concise plots of data in a variety of ways. The package was developed by an American neurobiologist called John D Hunter [2] as a way to display electrocorticography data of epilepsy patients during his post-doctoral neurobiological studies.  \n",
    "The clear concise manner in which data is presented using Matplotlib means that it has been used in a variety of scenarios including the first image of a black hole in 2019 from the Event Horizon Telescope and during the landing of the Phoenix spacecraft in 2008. [3]  \n",
    "A wide range of plots are available to any Python programmer using Matplotlib by simply writing a few lines of code. Examples of these plots include scatter plots, histograms, pie charts, box plots, corellograms, and, violin plots.  \n",
    "Contained within this Jupyter notebook is a clear concise overview of the Matplotlib.pyplot Python package and an in-depth explanation of three interesting plots from the matplotlib.pyplot Python package.  "
   ]
  },
  {
   "cell_type": "markdown",
   "id": "da3abc55-1ac0-4d07-833a-ae831cfd94e5",
   "metadata": {},
   "source": [
    "## Overview  \n",
    "As mentioned above the matplotlib.pyplot Python package is library of plots that data scientists can access to present their data in a visually appealing manner. Proficient data scientists are able to program their data to output easily understandable visual plots using this Python package. Often the sheer amount, and complexity, of data being handled by data scientists can cause confusion to people not involved in coding the data.  \n",
    "Having the ability to manipulate this data to output various visual plots is crucial in presenting data to others so that it is easily comprehended and assessed accordingly.   \n",
    "In order to present data successfully, clear and appealing images are vital for the audience to assimilate what is being presented. It is often stated that human beings are visual creatures, in fact a study performed at Massachussets Institute of Technology confirms that humans can identify images seen for as little as 13 milliseconds. [4]  "
   ]
  },
  {
   "cell_type": "markdown",
   "id": "49b0ebcd-aef3-4ee1-86de-411a37758c3d",
   "metadata": {},
   "source": [
    "![](https://cdn.pixabay.com/photo/2012/04/10/17/19/roadsigns-26535_960_720.png)"
   ]
  },
  {
   "cell_type": "markdown",
   "id": "bee3c0cf-5ce0-4482-85dc-6784332b4739",
   "metadata": {},
   "source": [
    "<br>  \n",
    "\n",
    "A good example of this in the real world is road signs. Road signs are required to be seen in some cases while travelling at high speed and understood instantly. While placenames obviously have to be in text, most road signs are simple symbols that are universally understood.  \n",
    "Consider the above example, is immediately clear on observing this image what the hazard is. The alternative, where a description in words would be used to inform the driver of the hazard would not have the same impact.  \n",
    "This is also the case when presenting data to an audience. Visual plots and graphs have an immediate impact, are easily comprehended, and hold the audience's attention much better than lots of text and/or bulletpoints. This is the main benefit of the matplotlib.pyplot package. Adding a few lines of code dramatically improves the appearance and coherence of a set of data.  \n",
    "There are a wide number of plots that can be called upon when using matplotlib.pyplot in Python. The author will now proceed to provide an in-depth explanation of three interesting types of plots available - Scatter plots, Histograms, and Pie Charts."
   ]
  },
  {
   "cell_type": "markdown",
   "id": "fdcbc8f9-4936-44a4-97eb-8ccbf7fdac41",
   "metadata": {},
   "source": [
    "<br>\n",
    "\n",
    "## Scatter Plots\n",
    "\n",
    "***\n",
    "\n"
   ]
  },
  {
   "cell_type": "markdown",
   "id": "357920d0-6fa3-4a58-bd40-387550c0edb9",
   "metadata": {},
   "source": [
    "<br>\n",
    "\n",
    "## References\n",
    "\n",
    "***\n",
    "\n",
    "[1] Example plot taken from author's previous project on the Iris Dataset.  \n",
    "https://github.com/G00398275/pands-project  \n",
    "[2] https://en.wikipedia.org/wiki/Matplotlib  \n",
    "[3] https://en.wikipedia.org/wiki/John_D._Hunter  \n",
    "[4] https://news.mit.edu/2014/in-the-blink-of-an-eye-0116  \n",
    "\n",
    "\n",
    "\n",
    "\n",
    "\n"
   ]
  },
  {
   "cell_type": "code",
   "execution_count": null,
   "id": "01a32124-2705-4b1f-a655-9fb119989377",
   "metadata": {
    "tags": []
   },
   "outputs": [],
   "source": []
  }
 ],
 "metadata": {
  "kernelspec": {
   "display_name": "Python 3",
   "language": "python",
   "name": "python3"
  },
  "language_info": {
   "codemirror_mode": {
    "name": "ipython",
    "version": 3
   },
   "file_extension": ".py",
   "mimetype": "text/x-python",
   "name": "python",
   "nbconvert_exporter": "python",
   "pygments_lexer": "ipython3",
   "version": "3.8.8"
  }
 },
 "nbformat": 4,
 "nbformat_minor": 5
}
