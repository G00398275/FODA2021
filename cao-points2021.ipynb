{
 "cells": [
  {
   "cell_type": "markdown",
   "id": "050aa350-c10b-47d5-953f-6f8ee2b817f5",
   "metadata": {},
   "source": [
    "# CAO Points Analysis\n",
    "## Author: Ross Downey\n",
    "\n",
    "http://www2.cao.ie/points/l8.php\n",
    "***\n"
   ]
  },
  {
   "cell_type": "code",
   "execution_count": 12,
   "id": "6fd84a80-6a32-4fac-9d9d-7c4a178c3f50",
   "metadata": {},
   "outputs": [],
   "source": [
    "# HTTP Requests Python Module\n",
    "import requests as rq\n",
    "\n",
    "# Regular expressions module\n",
    "import re\n",
    "\n",
    "# Dates and time module\n",
    "import datetime as dt\n",
    "\n",
    "# Pandas\n",
    "import pandas as pd\n",
    "\n",
    "# Downloading\n",
    "import urllib.request as urlrq"
   ]
  },
  {
   "cell_type": "markdown",
   "id": "1cb6046a-d1a2-4d54-9f20-8b962ca69fe8",
   "metadata": {},
   "source": [
    "<br>\n",
    "\n",
    "## 2021 Points\n",
    "\n",
    "***"
   ]
  },
  {
   "cell_type": "code",
   "execution_count": 2,
   "id": "f4eb2841-ec5d-4213-aa4c-caa7874dd9eb",
   "metadata": {},
   "outputs": [
    {
     "data": {
      "text/plain": [
       "<Response [200]>"
      ]
     },
     "execution_count": 2,
     "metadata": {},
     "output_type": "execute_result"
    }
   ],
   "source": [
    "# Retrieving the 2021 CAO from this URL using the requests module\n",
    "resp = rq.get('http://www2.cao.ie/points/l8.php')\n",
    "\n",
    "# Veryifing Python has downloaded the data from the URL, [200] means it's ok\n",
    "resp"
   ]
  },
  {
   "cell_type": "markdown",
   "id": "80844957-001c-4a0d-8c37-af8d63776d0d",
   "metadata": {},
   "source": [
    "<br>  \n",
    "\n",
    "## Ensuring original dataset is saved\n",
    "***"
   ]
  },
  {
   "cell_type": "code",
   "execution_count": 3,
   "id": "03242c00-d76d-4bd8-b41f-385f987c6f44",
   "metadata": {},
   "outputs": [],
   "source": [
    "# Saving current date and time as a function\n",
    "now = dt.datetime.now()\n",
    "\n",
    "# Convert date and time to a string\n",
    "nowstr = now.strftime('%Y%m%d_%H%M%S')"
   ]
  },
  {
   "cell_type": "code",
   "execution_count": 4,
   "id": "469a1bad-bd38-41e0-9049-9d369a3a03f2",
   "metadata": {},
   "outputs": [],
   "source": [
    "# Filepath to be created in data folder to save original data\n",
    "filepath = 'data/cao2021_' + nowstr + '.html'"
   ]
  },
  {
   "cell_type": "markdown",
   "id": "5587fd53-1298-400a-8c18-7e5186f02e46",
   "metadata": {},
   "source": [
    "<br>\n",
    "\n",
    "## Error on Server\n",
    "***\n",
    "Issue with the character set defined on the CAO server.  \n",
    "The server says we should decode as per:  \n",
    "    Content-Type: text/html; charset=iso-8859-1  \n",
    "On decoding as per 'iso-8859-1' it was noted that one line is using \\x96,  \n",
    "which is not defined in iso-8859-1.  \n",
    "The similar decoding standard 'cp1252' will be used, which has a codepoint for \\x96."
   ]
  },
  {
   "cell_type": "code",
   "execution_count": 5,
   "id": "531f6fca-006d-455f-92fe-1784b786d4c5",
   "metadata": {},
   "outputs": [],
   "source": [
    "# Amending the original encoding\n",
    "original_encoding = resp.encoding\n",
    "\n",
    "# Changing to 'cp1252'\n",
    "resp.encoding = 'cp1252'"
   ]
  },
  {
   "cell_type": "code",
   "execution_count": 6,
   "id": "09e7bf30-a213-4517-b23e-6d2036e1548a",
   "metadata": {},
   "outputs": [],
   "source": [
    "# Saving the original file downloaded from server\n",
    "with open(filepath, 'w') as f:\n",
    "    f.write(resp.text)"
   ]
  },
  {
   "cell_type": "code",
   "execution_count": 7,
   "id": "ad489e56-8618-4a17-af79-c5f3c1bf9dde",
   "metadata": {},
   "outputs": [],
   "source": [
    "# Compiling the regular expression for the matching lines.\n",
    "re_course = re.compile(r'([A-Z]{2}[0-9]{3})  (.*)([0-9]{3})(\\*?) *')\n",
    "# This gives us only the lines in the original HTML code that have CAO points"
   ]
  },
  {
   "cell_type": "markdown",
   "id": "b805ad5a-8935-4e97-b593-5b48ff3755a3",
   "metadata": {},
   "source": [
    "<br>\n",
    "\n",
    "## Explanation of Regular Expression\n",
    "***\n",
    "re.compile \n",
    "r = converting html flags to raw strings\n",
    "[A-Z]{2} = Everything with 2 letters\n",
    "[0-9]{3} = Followed by 3 numbers, this is each course code e.g. AL801\n",
    "\n",
    "Two spaces followed by (.*) is space then wildcard, this is the course title string\n",
    "\n",
    "[0-9]{3} This is the number of points required\n",
    "\n",
    "(\\*?) is a wildcard search, but some of these are actual asterisks in the html so using question mark\n",
    "\n",
    "and asterisk at the end also as a wildcard\n",
    "\n"
   ]
  },
  {
   "cell_type": "code",
   "execution_count": 8,
   "id": "21de6960-a0e9-4d49-98b6-49fc838e14fb",
   "metadata": {},
   "outputs": [
    {
     "name": "stdout",
     "output_type": "stream",
     "text": [
      "Total number of lines is 922. \n"
     ]
    }
   ],
   "source": [
    "# Creating filepath to save the new csv file\n",
    "filepath = 'data/cao2021_csv_' + nowstr + '.csv'\n",
    "\n",
    "\n",
    "# Adding a counter to total the number of courses processed\n",
    "no_lines = 0\n",
    "\n",
    "# Opening filepath to save new csv file\n",
    "with open(filepath, 'w') as f:\n",
    "    \n",
    "# Looping through the lines of the data \n",
    "    for line in resp.iter_lines():\n",
    "        \n",
    "        # Decode the line but using the 'wrong' encoding\n",
    "        dline = line.decode('cp1252')\n",
    "    \n",
    "        # Using regular expression to match lines with courses and points only\n",
    "        if re_course.fullmatch(dline):\n",
    "        \n",
    "            # Adding 1 for each line matched to give an overall total using the counter\n",
    "            no_lines = no_lines + 1\n",
    "        \n",
    "            # Split the line based on number of spaces (i.e. two spaces or more) using '  +'\n",
    "            linesplit = re.split('  +', dline)\n",
    "        \n",
    "            # Rejoin the substrings after splitting but with commas in between\n",
    "            # This removes all of the spaces in the original data\n",
    "            # Rejoined and using '\\n' to add a new line for each course\n",
    "            f.write(','.join(linesplit) + '\\n')\n",
    "        \n",
    "# Displaying the total number of lines processed\n",
    "print(f\"Total number of lines is {no_lines}. \")"
   ]
  },
  {
   "cell_type": "markdown",
   "id": "907efeb6-3790-43c1-b1eb-e4e57ccb4f79",
   "metadata": {},
   "source": [
    "<br>\n",
    "\n",
    "## Cleaning up csv file to remove special characters  \n",
    "Need to remove any special characters ( '#', '@' etc.) from the data to peform analysis on the "
   ]
  },
  {
   "cell_type": "code",
   "execution_count": 9,
   "id": "b9b60cf6-7e7a-4461-96cf-f1b79266d2b7",
   "metadata": {},
   "outputs": [
    {
     "data": {
      "text/plain": [
       "'C:\\\\Users\\\\downe\\\\FODA2021\\\\FODA2021'"
      ]
     },
     "execution_count": 9,
     "metadata": {},
     "output_type": "execute_result"
    }
   ],
   "source": [
    "pwd"
   ]
  },
  {
   "cell_type": "code",
   "execution_count": 10,
   "id": "fb3dd743-6316-4be7-a542-ef3947a20cd2",
   "metadata": {},
   "outputs": [
    {
     "ename": "SyntaxError",
     "evalue": "invalid syntax (<ipython-input-10-b411253cfa81>, line 6)",
     "output_type": "error",
     "traceback": [
      "\u001b[1;36m  File \u001b[1;32m\"<ipython-input-10-b411253cfa81>\"\u001b[1;36m, line \u001b[1;32m6\u001b[0m\n\u001b[1;33m    df = [x, columns = ['Code', 'Title','Rd 1 Points', 'Rd 2 Points', 'Rd 3 Points' ]]\u001b[0m\n\u001b[1;37m                     ^\u001b[0m\n\u001b[1;31mSyntaxError\u001b[0m\u001b[1;31m:\u001b[0m invalid syntax\n"
     ]
    }
   ],
   "source": [
    "# https://stackoverflow.com/questions/18039057/python-pandas-error-tokenizing-data\n",
    "Column_Names = ['Course Code', 'Course Title', \n",
    "                'Round 1 Points', 'Round 2 Points', 'Round 3 Points']\n",
    "x = pd.read_csv(r\"C:/Users/downe/FODA2021/FODA2021/data/cao2021_csv_20211030_112255.csv\",\n",
    "                sep='delimiter', header=None, engine ='python')\n",
    "df = [x, columns = ['Code', 'Title','Rd 1 Points', 'Rd 2 Points', 'Rd 3 Points' ]]"
   ]
  },
  {
   "cell_type": "code",
   "execution_count": null,
   "id": "ba9f515b-6474-4175-a467-ed74194da511",
   "metadata": {},
   "outputs": [],
   "source": []
  },
  {
   "cell_type": "code",
   "execution_count": null,
   "id": "f2c9e778-6218-4214-a3f0-c4041fe2ee5e",
   "metadata": {},
   "outputs": [],
   "source": []
  },
  {
   "cell_type": "code",
   "execution_count": null,
   "id": "dfc53fc2-0d9e-4988-988c-006eb2c0399d",
   "metadata": {},
   "outputs": [],
   "source": []
  },
  {
   "cell_type": "code",
   "execution_count": null,
   "id": "4dca9f12-e188-49fe-b6bc-17765c477b2d",
   "metadata": {},
   "outputs": [],
   "source": []
  },
  {
   "cell_type": "code",
   "execution_count": null,
   "id": "163d55df-eaff-4f93-906a-70e84d920c76",
   "metadata": {},
   "outputs": [],
   "source": []
  },
  {
   "cell_type": "code",
   "execution_count": null,
   "id": "5fc9362f-a7d8-440b-9275-48a159ddf957",
   "metadata": {},
   "outputs": [],
   "source": []
  },
  {
   "cell_type": "code",
   "execution_count": null,
   "id": "f1fb562a-b875-47fc-9962-026812681f20",
   "metadata": {},
   "outputs": [],
   "source": []
  },
  {
   "cell_type": "markdown",
   "id": "e9eeba7f-a87b-49ac-94d3-0f248051dd84",
   "metadata": {},
   "source": [
    "<br>\n",
    "\n",
    "## 2020 Points\n",
    "***\n",
    "\n",
    "https://www.cao.ie/index.php?page=points&p=2020&bb=points"
   ]
  },
  {
   "cell_type": "markdown",
   "id": "7f949aba-3b3d-4ebe-9c5c-6b1fa7231d7a",
   "metadata": {},
   "source": [
    "<br>\n",
    "\n",
    "### Saving Original File from CAO website\n",
    "\n",
    "***"
   ]
  },
  {
   "cell_type": "code",
   "execution_count": 14,
   "id": "d1987b9b-eb41-4b80-93aa-26dedaffb8cc",
   "metadata": {},
   "outputs": [],
   "source": [
    "# Creating filepath for original 2020 data from CAO site\n",
    "# File extension set as xlsx as original is in excel format\n",
    "filepath2020 = 'data/cao2020_' + nowstr + '.xlsx'"
   ]
  },
  {
   "cell_type": "code",
   "execution_count": 15,
   "id": "4adef442-b48f-4263-960e-91cf38b552fb",
   "metadata": {},
   "outputs": [
    {
     "data": {
      "text/plain": [
       "('data/cao2020_20211102_192348.xlsx',\n",
       " <http.client.HTTPMessage at 0x2716fd1acd0>)"
      ]
     },
     "execution_count": 15,
     "metadata": {},
     "output_type": "execute_result"
    }
   ],
   "source": [
    "urlrq.urlretrieve('http://www2.cao.ie/points/CAOPointsCharts2020.xlsx',\n",
    "                  filepath2020)"
   ]
  },
  {
   "cell_type": "markdown",
   "id": "21df7528-6acf-4edb-88e4-b96d9a5fc6a8",
   "metadata": {},
   "source": [
    "<br>\n",
    "\n",
    "### Loading 2020 Spreadsheet into Notebook using Pandas\n",
    "\n",
    "***"
   ]
  },
  {
   "cell_type": "code",
   "execution_count": 16,
   "id": "03c6704c-8eaa-4811-ad72-5a7dd05b25cb",
   "metadata": {},
   "outputs": [],
   "source": [
    "# Downloading and Parsing the spreadsheet\n",
    "# Skipping initial 10 rows as no relevant data contained within\n",
    "df2020 = pd.read_excel('http://www2.cao.ie/points/CAOPointsCharts2020.xlsx', skiprows=10)"
   ]
  },
  {
   "cell_type": "code",
   "execution_count": 21,
   "id": "dad981f0-ff91-42b9-bbd2-ddaee2793bc9",
   "metadata": {},
   "outputs": [
    {
     "data": {
      "text/html": [
       "<div>\n",
       "<style scoped>\n",
       "    .dataframe tbody tr th:only-of-type {\n",
       "        vertical-align: middle;\n",
       "    }\n",
       "\n",
       "    .dataframe tbody tr th {\n",
       "        vertical-align: top;\n",
       "    }\n",
       "\n",
       "    .dataframe thead th {\n",
       "        text-align: right;\n",
       "    }\n",
       "</style>\n",
       "<table border=\"1\" class=\"dataframe\">\n",
       "  <thead>\n",
       "    <tr style=\"text-align: right;\">\n",
       "      <th></th>\n",
       "      <th>CATEGORY (i.e.ISCED description)</th>\n",
       "      <th>COURSE TITLE</th>\n",
       "      <th>COURSE CODE2</th>\n",
       "      <th>R1 POINTS</th>\n",
       "      <th>R1 Random *</th>\n",
       "      <th>R2 POINTS</th>\n",
       "      <th>R2 Random*</th>\n",
       "      <th>EOS</th>\n",
       "      <th>EOS Random *</th>\n",
       "      <th>EOS Mid-point</th>\n",
       "      <th>...</th>\n",
       "      <th>avp</th>\n",
       "      <th>v</th>\n",
       "      <th>Column1</th>\n",
       "      <th>Column2</th>\n",
       "      <th>Column3</th>\n",
       "      <th>Column4</th>\n",
       "      <th>Column5</th>\n",
       "      <th>Column6</th>\n",
       "      <th>Column7</th>\n",
       "      <th>Column8</th>\n",
       "    </tr>\n",
       "  </thead>\n",
       "  <tbody>\n",
       "    <tr>\n",
       "      <th>0</th>\n",
       "      <td>Business and administration</td>\n",
       "      <td>International Business</td>\n",
       "      <td>AC120</td>\n",
       "      <td>209</td>\n",
       "      <td>NaN</td>\n",
       "      <td>NaN</td>\n",
       "      <td>NaN</td>\n",
       "      <td>209</td>\n",
       "      <td>NaN</td>\n",
       "      <td>280</td>\n",
       "      <td>...</td>\n",
       "      <td>NaN</td>\n",
       "      <td>NaN</td>\n",
       "      <td>NaN</td>\n",
       "      <td>NaN</td>\n",
       "      <td>NaN</td>\n",
       "      <td>NaN</td>\n",
       "      <td>NaN</td>\n",
       "      <td>NaN</td>\n",
       "      <td>NaN</td>\n",
       "      <td>NaN</td>\n",
       "    </tr>\n",
       "    <tr>\n",
       "      <th>1</th>\n",
       "      <td>Humanities (except languages)</td>\n",
       "      <td>Liberal Arts</td>\n",
       "      <td>AC137</td>\n",
       "      <td>252</td>\n",
       "      <td>NaN</td>\n",
       "      <td>NaN</td>\n",
       "      <td>NaN</td>\n",
       "      <td>252</td>\n",
       "      <td>NaN</td>\n",
       "      <td>270</td>\n",
       "      <td>...</td>\n",
       "      <td>NaN</td>\n",
       "      <td>NaN</td>\n",
       "      <td>NaN</td>\n",
       "      <td>NaN</td>\n",
       "      <td>NaN</td>\n",
       "      <td>NaN</td>\n",
       "      <td>NaN</td>\n",
       "      <td>NaN</td>\n",
       "      <td>NaN</td>\n",
       "      <td>NaN</td>\n",
       "    </tr>\n",
       "    <tr>\n",
       "      <th>2</th>\n",
       "      <td>Arts</td>\n",
       "      <td>First Year Art &amp; Design (Common Entry,portfolio)</td>\n",
       "      <td>AD101</td>\n",
       "      <td>#+matric</td>\n",
       "      <td>NaN</td>\n",
       "      <td>NaN</td>\n",
       "      <td>NaN</td>\n",
       "      <td>#+matric</td>\n",
       "      <td>NaN</td>\n",
       "      <td>#+matric</td>\n",
       "      <td>...</td>\n",
       "      <td>NaN</td>\n",
       "      <td>NaN</td>\n",
       "      <td>NaN</td>\n",
       "      <td>NaN</td>\n",
       "      <td>NaN</td>\n",
       "      <td>NaN</td>\n",
       "      <td>NaN</td>\n",
       "      <td>NaN</td>\n",
       "      <td>NaN</td>\n",
       "      <td>NaN</td>\n",
       "    </tr>\n",
       "    <tr>\n",
       "      <th>3</th>\n",
       "      <td>Arts</td>\n",
       "      <td>Graphic Design and Moving Image Design (portfo...</td>\n",
       "      <td>AD102</td>\n",
       "      <td>#+matric</td>\n",
       "      <td>NaN</td>\n",
       "      <td>NaN</td>\n",
       "      <td>NaN</td>\n",
       "      <td>#+matric</td>\n",
       "      <td>NaN</td>\n",
       "      <td>#+matric</td>\n",
       "      <td>...</td>\n",
       "      <td>NaN</td>\n",
       "      <td>NaN</td>\n",
       "      <td>NaN</td>\n",
       "      <td>NaN</td>\n",
       "      <td>NaN</td>\n",
       "      <td>NaN</td>\n",
       "      <td>NaN</td>\n",
       "      <td>NaN</td>\n",
       "      <td>NaN</td>\n",
       "      <td>NaN</td>\n",
       "    </tr>\n",
       "    <tr>\n",
       "      <th>4</th>\n",
       "      <td>Arts</td>\n",
       "      <td>Textile &amp; Surface Design and Jewellery &amp; Objec...</td>\n",
       "      <td>AD103</td>\n",
       "      <td>#+matric</td>\n",
       "      <td>NaN</td>\n",
       "      <td>NaN</td>\n",
       "      <td>NaN</td>\n",
       "      <td>#+matric</td>\n",
       "      <td>NaN</td>\n",
       "      <td>#+matric</td>\n",
       "      <td>...</td>\n",
       "      <td>NaN</td>\n",
       "      <td>NaN</td>\n",
       "      <td>NaN</td>\n",
       "      <td>NaN</td>\n",
       "      <td>NaN</td>\n",
       "      <td>NaN</td>\n",
       "      <td>NaN</td>\n",
       "      <td>NaN</td>\n",
       "      <td>NaN</td>\n",
       "      <td>NaN</td>\n",
       "    </tr>\n",
       "  </tbody>\n",
       "</table>\n",
       "<p>5 rows × 23 columns</p>\n",
       "</div>"
      ],
      "text/plain": [
       "  CATEGORY (i.e.ISCED description)  \\\n",
       "0      Business and administration   \n",
       "1    Humanities (except languages)   \n",
       "2                             Arts   \n",
       "3                             Arts   \n",
       "4                             Arts   \n",
       "\n",
       "                                        COURSE TITLE COURSE CODE2 R1 POINTS  \\\n",
       "0                             International Business        AC120       209   \n",
       "1                                       Liberal Arts        AC137       252   \n",
       "2   First Year Art & Design (Common Entry,portfolio)        AD101  #+matric   \n",
       "3  Graphic Design and Moving Image Design (portfo...        AD102  #+matric   \n",
       "4  Textile & Surface Design and Jewellery & Objec...        AD103  #+matric   \n",
       "\n",
       "  R1 Random * R2 POINTS R2 Random*       EOS EOS Random * EOS Mid-point  ...  \\\n",
       "0         NaN       NaN        NaN       209          NaN           280  ...   \n",
       "1         NaN       NaN        NaN       252          NaN           270  ...   \n",
       "2         NaN       NaN        NaN  #+matric          NaN      #+matric  ...   \n",
       "3         NaN       NaN        NaN  #+matric          NaN      #+matric  ...   \n",
       "4         NaN       NaN        NaN  #+matric          NaN      #+matric  ...   \n",
       "\n",
       "   avp    v Column1 Column2 Column3  Column4  Column5  Column6  Column7  \\\n",
       "0  NaN  NaN     NaN     NaN     NaN      NaN      NaN      NaN      NaN   \n",
       "1  NaN  NaN     NaN     NaN     NaN      NaN      NaN      NaN      NaN   \n",
       "2  NaN  NaN     NaN     NaN     NaN      NaN      NaN      NaN      NaN   \n",
       "3  NaN  NaN     NaN     NaN     NaN      NaN      NaN      NaN      NaN   \n",
       "4  NaN  NaN     NaN     NaN     NaN      NaN      NaN      NaN      NaN   \n",
       "\n",
       "   Column8  \n",
       "0      NaN  \n",
       "1      NaN  \n",
       "2      NaN  \n",
       "3      NaN  \n",
       "4      NaN  \n",
       "\n",
       "[5 rows x 23 columns]"
      ]
     },
     "execution_count": 21,
     "metadata": {},
     "output_type": "execute_result"
    }
   ],
   "source": [
    "# Checking first five rows for formatting\n",
    "df2020.head()"
   ]
  },
  {
   "cell_type": "code",
   "execution_count": 19,
   "id": "6f814abe-a9ee-4ac6-b9d8-ad4ef44d556c",
   "metadata": {},
   "outputs": [
    {
     "data": {
      "text/plain": [
       "CATEGORY (i.e.ISCED description)                       Arts\n",
       "COURSE TITLE                        Film and Creative Media\n",
       "COURSE CODE2                                          DB576\n",
       "R1 POINTS                                               AQA\n",
       "R1 Random *                                             NaN\n",
       "R2 POINTS                                               AQA\n",
       "R2 Random*                                              NaN\n",
       "EOS                                                     AQA\n",
       "EOS Random *                                            NaN\n",
       "EOS Mid-point                                           338\n",
       "LEVEL                                                     7\n",
       "HEI                                  Dublin Business School\n",
       "Test/Interview #                                        NaN\n",
       "avp                                                     avp\n",
       "v                                                       NaN\n",
       "Column1                                                 NaN\n",
       "Column2                                                 NaN\n",
       "Column3                                                 NaN\n",
       "Column4                                                 NaN\n",
       "Column5                                                 NaN\n",
       "Column6                                                 NaN\n",
       "Column7                                                 NaN\n",
       "Column8                                                 NaN\n",
       "Name: 333, dtype: object"
      ]
     },
     "execution_count": 19,
     "metadata": {},
     "output_type": "execute_result"
    }
   ],
   "source": [
    "# Spot checking random row\n",
    "# Index 333 is the same as row 345 in original excel file\n",
    "# Removed 10 rows, 1 row for header and 1 row for pandas index starting at 0\n",
    "# Spot check aligns with original excel file\n",
    "df2020.iloc[333]"
   ]
  },
  {
   "cell_type": "code",
   "execution_count": 20,
   "id": "3dd48336-8b30-4ed0-8ce8-77b4ef627314",
   "metadata": {},
   "outputs": [
    {
     "data": {
      "text/plain": [
       "CATEGORY (i.e.ISCED description)          Engineering and engineering trades\n",
       "COURSE TITLE                        Mechanical and Manufacturing Engineering\n",
       "COURSE CODE2                                                           WD230\n",
       "R1 POINTS                                                                253\n",
       "R1 Random *                                                              NaN\n",
       "R2 POINTS                                                                NaN\n",
       "R2 Random*                                                               NaN\n",
       "EOS                                                                      253\n",
       "EOS Random *                                                             NaN\n",
       "EOS Mid-point                                                            369\n",
       "LEVEL                                                                      8\n",
       "HEI                                        Waterford Institute of Technology\n",
       "Test/Interview #                                                         NaN\n",
       "avp                                                                      NaN\n",
       "v                                                                        NaN\n",
       "Column1                                                                  NaN\n",
       "Column2                                                                  NaN\n",
       "Column3                                                                  NaN\n",
       "Column4                                                                  NaN\n",
       "Column5                                                                  NaN\n",
       "Column6                                                                  NaN\n",
       "Column7                                                                  NaN\n",
       "Column8                                                                  NaN\n",
       "Name: 1463, dtype: object"
      ]
     },
     "execution_count": 20,
     "metadata": {},
     "output_type": "execute_result"
    }
   ],
   "source": [
    "# Spot Check last row\n",
    "# Aligns with original excel file\n",
    "df2020.iloc[-1]"
   ]
  },
  {
   "cell_type": "code",
   "execution_count": 22,
   "id": "a1f04c5f-5a74-48f8-b64d-f4748b10c4c6",
   "metadata": {},
   "outputs": [],
   "source": [
    "# Creating file path for 2020 data in csv format (Note file extension)\n",
    "filepath2020 = 'data/cao2020_' + nowstr + '.csv'"
   ]
  },
  {
   "cell_type": "code",
   "execution_count": 24,
   "id": "8fc3b5aa-1637-4747-aec9-c43543d3a5ed",
   "metadata": {},
   "outputs": [],
   "source": [
    "# Saving dataframe\n",
    "df2020.to_csv(filepath2020)"
   ]
  },
  {
   "cell_type": "code",
   "execution_count": null,
   "id": "3cda7b1f-122f-4769-b580-914c3fef27f9",
   "metadata": {},
   "outputs": [],
   "source": []
  },
  {
   "cell_type": "code",
   "execution_count": null,
   "id": "072af512-5dfd-499c-9def-071a1ef07886",
   "metadata": {},
   "outputs": [],
   "source": []
  },
  {
   "cell_type": "code",
   "execution_count": null,
   "id": "14590d1b-8eb1-4287-b909-6dce9628ec0e",
   "metadata": {},
   "outputs": [],
   "source": []
  },
  {
   "cell_type": "code",
   "execution_count": null,
   "id": "2389091a-5ea5-4fdb-a3a4-5ae786265d1d",
   "metadata": {},
   "outputs": [],
   "source": []
  },
  {
   "cell_type": "code",
   "execution_count": null,
   "id": "61fbd00d-8cef-4d89-b7d7-dce2458b01b4",
   "metadata": {},
   "outputs": [],
   "source": []
  },
  {
   "cell_type": "markdown",
   "id": "bd37e653-b3fa-4771-8242-94ff447a44da",
   "metadata": {},
   "source": [
    "<br>\n",
    "\n",
    "## 2019 Points\n",
    "***\n",
    "\n",
    "https://www.cao.ie/index.php?page=points&p=2019&bb=points"
   ]
  },
  {
   "cell_type": "markdown",
   "id": "8ab2c033-3d8f-4ff1-abf0-5ce534114720",
   "metadata": {},
   "source": [
    "Steps taken to convert original pdf file to pandas dataframe\n",
    "<br>\n",
    "1. Original PDF file downloaded from link above\n",
    "2. PDF file converted to Microsoft Word file\n",
    "3. Microsoft Word file saved in docx format\n",
    "4. Second copy of Word file saved as \"_edited\"\n",
    "5. Headers, Footers and initial introduction deleted\n",
    "6. Selected all and pasted into Notepad++\n",
    "7. Removed all HEI names as had their own rows\n",
    "8. Removed all special characters (#* etc.) using \"Find and Replace\"\n",
    "9. Changed backticks (`) to apostrophes (') using \"Find and Replace\"\n",
    "10. Changed column header from \"Course and Institution\" to \"Course\"\n",
    "11. Extra \"NaN\" columns noted, removed double tab from course code AL870 (l.28)\n"
   ]
  },
  {
   "cell_type": "code",
   "execution_count": 26,
   "id": "6022f210-9690-4d22-9ffd-1c6ef1590943",
   "metadata": {},
   "outputs": [],
   "source": [
    "df2019 = pd.read_csv('data/cao2019_20211102_194800_edited.csv', sep='\\t')"
   ]
  },
  {
   "cell_type": "code",
   "execution_count": 27,
   "id": "91d335bd-5c15-4860-9456-2c6293b574a7",
   "metadata": {},
   "outputs": [
    {
     "data": {
      "text/html": [
       "<div>\n",
       "<style scoped>\n",
       "    .dataframe tbody tr th:only-of-type {\n",
       "        vertical-align: middle;\n",
       "    }\n",
       "\n",
       "    .dataframe tbody tr th {\n",
       "        vertical-align: top;\n",
       "    }\n",
       "\n",
       "    .dataframe thead th {\n",
       "        text-align: right;\n",
       "    }\n",
       "</style>\n",
       "<table border=\"1\" class=\"dataframe\">\n",
       "  <thead>\n",
       "    <tr style=\"text-align: right;\">\n",
       "      <th></th>\n",
       "      <th>Course Code</th>\n",
       "      <th>COURSE</th>\n",
       "      <th>EOS</th>\n",
       "      <th>Mid</th>\n",
       "      <th>Unnamed: 4</th>\n",
       "      <th>Unnamed: 5</th>\n",
       "    </tr>\n",
       "  </thead>\n",
       "  <tbody>\n",
       "    <tr>\n",
       "      <th>0</th>\n",
       "      <td>AL801</td>\n",
       "      <td>Software Design with Virtual Reality and Gaming</td>\n",
       "      <td>304</td>\n",
       "      <td>328.0</td>\n",
       "      <td>NaN</td>\n",
       "      <td>NaN</td>\n",
       "    </tr>\n",
       "    <tr>\n",
       "      <th>1</th>\n",
       "      <td>AL802</td>\n",
       "      <td>Software Design with Cloud Computing</td>\n",
       "      <td>301</td>\n",
       "      <td>306.0</td>\n",
       "      <td>NaN</td>\n",
       "      <td>NaN</td>\n",
       "    </tr>\n",
       "    <tr>\n",
       "      <th>2</th>\n",
       "      <td>AL803</td>\n",
       "      <td>Software Design with Mobile Apps and Connected...</td>\n",
       "      <td>309</td>\n",
       "      <td>337.0</td>\n",
       "      <td>NaN</td>\n",
       "      <td>NaN</td>\n",
       "    </tr>\n",
       "    <tr>\n",
       "      <th>3</th>\n",
       "      <td>AL805</td>\n",
       "      <td>Network Management and Cloud Infrastructure</td>\n",
       "      <td>329</td>\n",
       "      <td>442.0</td>\n",
       "      <td>NaN</td>\n",
       "      <td>NaN</td>\n",
       "    </tr>\n",
       "    <tr>\n",
       "      <th>4</th>\n",
       "      <td>AL810</td>\n",
       "      <td>Quantity Surveying</td>\n",
       "      <td>307</td>\n",
       "      <td>349.0</td>\n",
       "      <td>NaN</td>\n",
       "      <td>NaN</td>\n",
       "    </tr>\n",
       "    <tr>\n",
       "      <th>...</th>\n",
       "      <td>...</td>\n",
       "      <td>...</td>\n",
       "      <td>...</td>\n",
       "      <td>...</td>\n",
       "      <td>...</td>\n",
       "      <td>...</td>\n",
       "    </tr>\n",
       "    <tr>\n",
       "      <th>925</th>\n",
       "      <td>WD200</td>\n",
       "      <td>Arts (options)</td>\n",
       "      <td>221</td>\n",
       "      <td>296.0</td>\n",
       "      <td>NaN</td>\n",
       "      <td>NaN</td>\n",
       "    </tr>\n",
       "    <tr>\n",
       "      <th>926</th>\n",
       "      <td>WD210</td>\n",
       "      <td>Software Systems Development</td>\n",
       "      <td>271</td>\n",
       "      <td>329.0</td>\n",
       "      <td>NaN</td>\n",
       "      <td>NaN</td>\n",
       "    </tr>\n",
       "    <tr>\n",
       "      <th>927</th>\n",
       "      <td>WD211</td>\n",
       "      <td>Creative Computing</td>\n",
       "      <td>275</td>\n",
       "      <td>322.0</td>\n",
       "      <td>NaN</td>\n",
       "      <td>NaN</td>\n",
       "    </tr>\n",
       "    <tr>\n",
       "      <th>928</th>\n",
       "      <td>WD212</td>\n",
       "      <td>Recreation and Sport Management</td>\n",
       "      <td>274</td>\n",
       "      <td>311.0</td>\n",
       "      <td>NaN</td>\n",
       "      <td>NaN</td>\n",
       "    </tr>\n",
       "    <tr>\n",
       "      <th>929</th>\n",
       "      <td>WD230</td>\n",
       "      <td>Mechanical and Manufacturing Engineering</td>\n",
       "      <td>273</td>\n",
       "      <td>348.0</td>\n",
       "      <td>NaN</td>\n",
       "      <td>NaN</td>\n",
       "    </tr>\n",
       "  </tbody>\n",
       "</table>\n",
       "<p>930 rows × 6 columns</p>\n",
       "</div>"
      ],
      "text/plain": [
       "    Course Code                                             COURSE  EOS  \\\n",
       "0         AL801    Software Design with Virtual Reality and Gaming  304   \n",
       "1         AL802               Software Design with Cloud Computing  301   \n",
       "2         AL803  Software Design with Mobile Apps and Connected...  309   \n",
       "3         AL805        Network Management and Cloud Infrastructure  329   \n",
       "4         AL810                                 Quantity Surveying  307   \n",
       "..          ...                                                ...  ...   \n",
       "925       WD200                                     Arts (options)  221   \n",
       "926       WD210                       Software Systems Development  271   \n",
       "927       WD211                                 Creative Computing  275   \n",
       "928       WD212                    Recreation and Sport Management  274   \n",
       "929       WD230           Mechanical and Manufacturing Engineering  273   \n",
       "\n",
       "       Mid Unnamed: 4  Unnamed: 5  \n",
       "0    328.0        NaN         NaN  \n",
       "1    306.0        NaN         NaN  \n",
       "2    337.0        NaN         NaN  \n",
       "3    442.0        NaN         NaN  \n",
       "4    349.0        NaN         NaN  \n",
       "..     ...        ...         ...  \n",
       "925  296.0        NaN         NaN  \n",
       "926  329.0        NaN         NaN  \n",
       "927  322.0        NaN         NaN  \n",
       "928  311.0        NaN         NaN  \n",
       "929  348.0        NaN         NaN  \n",
       "\n",
       "[930 rows x 6 columns]"
      ]
     },
     "execution_count": 27,
     "metadata": {},
     "output_type": "execute_result"
    }
   ],
   "source": [
    "df2019"
   ]
  },
  {
   "cell_type": "code",
   "execution_count": null,
   "id": "7d188714-3951-4083-8f91-41f676dbc4ff",
   "metadata": {},
   "outputs": [],
   "source": []
  },
  {
   "cell_type": "code",
   "execution_count": null,
   "id": "d476162d-68c2-45cd-a268-0afcb882b5a2",
   "metadata": {},
   "outputs": [],
   "source": []
  },
  {
   "cell_type": "code",
   "execution_count": null,
   "id": "a77d0ae9-b813-44da-8274-8b3e55bfbe54",
   "metadata": {},
   "outputs": [],
   "source": []
  },
  {
   "cell_type": "markdown",
   "id": "fe437868-2e3a-4daf-b5d5-418c273a2133",
   "metadata": {},
   "source": [
    "***\n",
    "## End"
   ]
  },
  {
   "cell_type": "code",
   "execution_count": null,
   "id": "4c4aab4b-d5a3-4c6f-901e-b6752011c1fa",
   "metadata": {},
   "outputs": [],
   "source": []
  }
 ],
 "metadata": {
  "kernelspec": {
   "display_name": "Python 3",
   "language": "python",
   "name": "python3"
  },
  "language_info": {
   "codemirror_mode": {
    "name": "ipython",
    "version": 3
   },
   "file_extension": ".py",
   "mimetype": "text/x-python",
   "name": "python",
   "nbconvert_exporter": "python",
   "pygments_lexer": "ipython3",
   "version": "3.8.8"
  }
 },
 "nbformat": 4,
 "nbformat_minor": 5
}
