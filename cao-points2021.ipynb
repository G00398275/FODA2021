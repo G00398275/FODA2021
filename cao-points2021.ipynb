{
 "cells": [
  {
   "cell_type": "markdown",
   "id": "050aa350-c10b-47d5-953f-6f8ee2b817f5",
   "metadata": {},
   "source": [
    "# CAO Points Analysis\n",
    "## Author: Ross Downey\n",
    "\n",
    "http://www2.cao.ie/points/l8.php\n",
    "***\n"
   ]
  },
  {
   "cell_type": "code",
   "execution_count": 1,
   "id": "6fd84a80-6a32-4fac-9d9d-7c4a178c3f50",
   "metadata": {},
   "outputs": [],
   "source": [
    "# HTTP Requests Python Module\n",
    "import requests as rq\n",
    "\n",
    "# Regular expressions module\n",
    "import re\n",
    "\n",
    "# Dates and time module\n",
    "import datetime as dt"
   ]
  },
  {
   "cell_type": "code",
   "execution_count": 2,
   "id": "f4eb2841-ec5d-4213-aa4c-caa7874dd9eb",
   "metadata": {},
   "outputs": [
    {
     "data": {
      "text/plain": [
       "<Response [200]>"
      ]
     },
     "execution_count": 2,
     "metadata": {},
     "output_type": "execute_result"
    }
   ],
   "source": [
    "# Retrieving the 2021 CAO from this URL using the requests module\n",
    "resp = rq.get('http://www2.cao.ie/points/l8.php')\n",
    "\n",
    "# Veryifing Python has downloaded the data from the URL, [200] means it's ok\n",
    "resp"
   ]
  },
  {
   "cell_type": "markdown",
   "id": "80844957-001c-4a0d-8c37-af8d63776d0d",
   "metadata": {},
   "source": [
    "<br>  \n",
    "\n",
    "## Ensuring original dataset is saved\n",
    "***"
   ]
  },
  {
   "cell_type": "code",
   "execution_count": 3,
   "id": "03242c00-d76d-4bd8-b41f-385f987c6f44",
   "metadata": {},
   "outputs": [],
   "source": [
    "# Saving current date and time as a function\n",
    "now = dt.datetime.now()\n",
    "\n",
    "# Convert date and time to a string\n",
    "nowstr = now.strftime('%Y%m%d_%H%M%S')"
   ]
  },
  {
   "cell_type": "code",
   "execution_count": 4,
   "id": "469a1bad-bd38-41e0-9049-9d369a3a03f2",
   "metadata": {},
   "outputs": [],
   "source": [
    "# Filepath to be created in data folder to save original data\n",
    "filepath = 'data/cao2021_' + nowstr + '.html'"
   ]
  },
  {
   "cell_type": "markdown",
   "id": "5587fd53-1298-400a-8c18-7e5186f02e46",
   "metadata": {},
   "source": [
    "<br>\n",
    "\n",
    "## Error on Server\n",
    "***\n",
    "Issue with the character set defined on the CAO server.  \n",
    "The server says we should decode as per:  \n",
    "    Content-Type: text/html; charset=iso-8859-1  \n",
    "On decoding as per 'iso-8859-1' it was noted that one line is using \\x96,  \n",
    "which is not defined in iso-8859-1.  \n",
    "The similar decoding standard 'cp1252' will be used, which has a codepoint for \\x96."
   ]
  },
  {
   "cell_type": "code",
   "execution_count": 5,
   "id": "531f6fca-006d-455f-92fe-1784b786d4c5",
   "metadata": {},
   "outputs": [],
   "source": [
    "# Amending the original encoding\n",
    "original_encoding = resp.encoding\n",
    "\n",
    "# Changing to 'cp1252'\n",
    "resp.encoding = 'cp1252'"
   ]
  },
  {
   "cell_type": "code",
   "execution_count": 6,
   "id": "09e7bf30-a213-4517-b23e-6d2036e1548a",
   "metadata": {},
   "outputs": [],
   "source": [
    "# Saving the original file downloaded from server\n",
    "with open(filepath, 'w') as f:\n",
    "    f.write(resp.text)"
   ]
  },
  {
   "cell_type": "code",
   "execution_count": 7,
   "id": "ad489e56-8618-4a17-af79-c5f3c1bf9dde",
   "metadata": {},
   "outputs": [],
   "source": [
    "# Compiling the regular expression for the matching lines.\n",
    "re_course = re.compile(r'([A-Z]{2}[0-9]{3})  (.*)([0-9]{3})(\\*?) *')\n",
    "# This gives us only the lines in the original HTML code that have CAO points"
   ]
  },
  {
   "cell_type": "markdown",
   "id": "b805ad5a-8935-4e97-b593-5b48ff3755a3",
   "metadata": {},
   "source": [
    "<br>\n",
    "\n",
    "## Explanation of Regular Expression\n",
    "***\n",
    "re.compile \n",
    "r = converting html flags to raw strings\n",
    "[A-Z]{2} = Everything with 2 letters\n",
    "[0-9]{3} = Followed by 3 numbers, this is each course code e.g. AL801\n",
    "\n",
    "Two spaces followed by (.*) is space then wildcard, this is the course title string\n",
    "\n",
    "[0-9]{3} This is the number of points required\n",
    "\n",
    "(\\*?) is a wildcard search, but some of these are actual asterisks in the html so using question mark\n",
    "\n",
    "and asterisk at the end also as a wildcard\n",
    "\n"
   ]
  },
  {
   "cell_type": "code",
   "execution_count": 15,
   "id": "21de6960-a0e9-4d49-98b6-49fc838e14fb",
   "metadata": {},
   "outputs": [
    {
     "name": "stdout",
     "output_type": "stream",
     "text": [
      "Total number of lines is 922. \n"
     ]
    }
   ],
   "source": [
    "# Creating filepath to save the new csv file\n",
    "filepath = 'data/cao2021_csv_' + nowstr + '.csv'\n",
    "\n",
    "\n",
    "# Adding a counter to total the number of courses processed\n",
    "no_lines = 0\n",
    "\n",
    "# Opening filepath to save new csv file\n",
    "with open(filepath, 'w') as f:\n",
    "    \n",
    "# Looping through the lines of the data \n",
    "    for line in resp.iter_lines():\n",
    "        \n",
    "        # Decode the line but using the 'wrong' encoding\n",
    "        dline = line.decode('cp1252')\n",
    "    \n",
    "        # Using regular expression to match lines with courses and points only\n",
    "        if re_course.fullmatch(dline):\n",
    "        \n",
    "            # Adding 1 for each line matched to give an overall total using the counter\n",
    "            no_lines = no_lines + 1\n",
    "        \n",
    "            # Split the line based on number of spaces (i.e. two spaces or more) using '  +'\n",
    "            linesplit = re.split('  +', dline)\n",
    "        \n",
    "            # Rejoin the substrings after splitting but with commas in between\n",
    "            # This removes all of the spaces in the original data\n",
    "            # Rejoined and using '\\n' to add a new line for each course\n",
    "            f.write(','.join(linesplit) + '\\n')\n",
    "        \n",
    "# Displaying the total number of lines processed\n",
    "print(f\"Total number of lines is {no_lines}. \")"
   ]
  },
  {
   "cell_type": "markdown",
   "id": "907efeb6-3790-43c1-b1eb-e4e57ccb4f79",
   "metadata": {},
   "source": [
    "<br>\n",
    "\n",
    "## Cleaning up csv file to remove special characters  \n",
    "Need to remove any special characters ( '#', '@' etc.) from the data to peform analysis on the "
   ]
  },
  {
   "cell_type": "code",
   "execution_count": null,
   "id": "fb3dd743-6316-4be7-a542-ef3947a20cd2",
   "metadata": {},
   "outputs": [],
   "source": [
    "string = open('cao2021_csv_20211019_213048.csv').read()\n",
    "new_str = re.sub('[^a-zA-Z0-9\\n\\.]', ' ', string)\n",
    "open('cao2021_cleaned.txt', 'w').write(new_str)"
   ]
  },
  {
   "cell_type": "code",
   "execution_count": null,
   "id": "a77d0ae9-b813-44da-8274-8b3e55bfbe54",
   "metadata": {},
   "outputs": [],
   "source": []
  },
  {
   "cell_type": "markdown",
   "id": "fe437868-2e3a-4daf-b5d5-418c273a2133",
   "metadata": {},
   "source": [
    "***\n",
    "## End"
   ]
  },
  {
   "cell_type": "code",
   "execution_count": null,
   "id": "4c4aab4b-d5a3-4c6f-901e-b6752011c1fa",
   "metadata": {},
   "outputs": [],
   "source": []
  }
 ],
 "metadata": {
  "kernelspec": {
   "display_name": "Python 3",
   "language": "python",
   "name": "python3"
  },
  "language_info": {
   "codemirror_mode": {
    "name": "ipython",
    "version": 3
   },
   "file_extension": ".py",
   "mimetype": "text/x-python",
   "name": "python",
   "nbconvert_exporter": "python",
   "pygments_lexer": "ipython3",
   "version": "3.8.8"
  }
 },
 "nbformat": 4,
 "nbformat_minor": 5
}
